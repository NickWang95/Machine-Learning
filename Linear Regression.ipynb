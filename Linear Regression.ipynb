{
 "cells": [
  {
   "cell_type": "code",
   "execution_count": 1,
   "metadata": {},
   "outputs": [
    {
     "data": {
      "text/plain": [
       "<matplotlib.figure.Figure at 0x7fb2d9a2d2d0>"
      ]
     },
     "metadata": {},
     "output_type": "display_data"
    }
   ],
   "source": [
    "import matplotlib as mpl\n",
    "from mpl_toolkits.mplot3d import Axes3D\n",
    "import numpy as np\n",
    "import matplotlib.pyplot as plt\n",
    "\n",
    "# f(x,y)=3 + 5x + 2.5x^2 + 5(random)\n",
    "x = np.linspace(0,5, num=51)\n",
    "f_exact = 3 + 5*x + 2.5*x*x\n",
    "f_noise = 3 + 5*x + 2.5*x*x + 2 * np.random.randn( np.size(x) )\n",
    "\n",
    "fig = plt.figure()\n",
    "ax1 = fig.add_subplot(111)\n",
    "ax1.plot(x, f_exact, label='exact')\n",
    "ax1.scatter(x, f_noise, s=3, label='noisy')\n",
    "plt.legend(loc='upper left');\n",
    "\n",
    "plt.show()"
   ]
  },
  {
   "cell_type": "code",
   "execution_count": 2,
   "metadata": {},
   "outputs": [
    {
     "data": {
      "text/plain": [
       "array([ 5.00159305,  2.86521556,  2.93069046])"
      ]
     },
     "execution_count": 2,
     "metadata": {},
     "output_type": "execute_result"
    }
   ],
   "source": [
    "#The feature array X contains bias, linear, quadratic terms.\n",
    "X = np.column_stack( ( np.ones(np.size(x)), x, np.square(x) ) )\n",
    "X_T = np.transpose(X)\n",
    "\n",
    "\n",
    "Y = f_noise\n",
    "\n",
    "#temp1 is (X^T*X)^-1, temp2 is X^T*Y\n",
    "temp1 = np.linalg.inv(  np.dot(X_T,X) )\n",
    "temp2 = np.dot(X_T,Y)\n",
    "\n",
    "# The parameter vector  w=(X^T*X)^-1*X^T*Y\n",
    "w = temp1.dot(temp2)\n",
    "w"
   ]
  },
  {
   "cell_type": "code",
   "execution_count": 3,
   "metadata": {},
   "outputs": [
    {
     "name": "stdout",
     "output_type": "stream",
     "text": [
      "[ 5.00159305  2.86521556  2.93069046]\n"
     ]
    }
   ],
   "source": [
    "from numpy.polynomial import polynomial as P\n",
    "print P.polyfit(x,f_noise,2)"
   ]
  },
  {
   "cell_type": "code",
   "execution_count": 4,
   "metadata": {},
   "outputs": [],
   "source": [
    "f_model= np.dot(X,w)\n",
    "ax1.plot(x,f_model, label='model')\n",
    "plt.show()"
   ]
  },
  {
   "cell_type": "code",
   "execution_count": null,
   "metadata": {},
   "outputs": [],
   "source": []
  }
 ],
 "metadata": {
  "kernelspec": {
   "display_name": "Python 2",
   "language": "python",
   "name": "python2"
  },
  "language_info": {
   "codemirror_mode": {
    "name": "ipython",
    "version": 2
   },
   "file_extension": ".py",
   "mimetype": "text/x-python",
   "name": "python",
   "nbconvert_exporter": "python",
   "pygments_lexer": "ipython2",
   "version": "2.7.12"
  }
 },
 "nbformat": 4,
 "nbformat_minor": 2
}
