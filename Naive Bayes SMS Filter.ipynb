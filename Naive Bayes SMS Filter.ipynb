{
 "cells": [
  {
   "cell_type": "markdown",
   "metadata": {},
   "source": [
    "# Spam SMS Filter\n",
    "## Naive Bayes Classification\n",
    "\n",
    "We implement a Naive Bayes classifier for filter out spam SMS.\n",
    "\n",
    "The dataset was obtained from https://archive.ics.uci.edu/ml/datasets/sms+spam+collection. It contains:\n",
    "\n",
    "-> 425 spam SMS messages, manually extracted from the Grumbletext Web site which is a UK forum in which cell phone users make public claims about SMS spam messages\n",
    "-> 3,375 non-spam SMS messages largely originated from Singaporeans and mostly from students attending the National University of Singapore.\n",
    "-> 450 non-spam SMS messages from Caroline Tag's PhD Thesis.\n",
    "-> 1,002 non-spam SMS messages and spam 322 SMS messages from the SMS Spam Corpus v.0.1 Big.\n",
    "\n",
    "^Description paraphrased from the link above."
   ]
  },
  {
   "cell_type": "code",
   "execution_count": 1,
   "metadata": {},
   "outputs": [],
   "source": [
    "%matplotlib inline\n",
    "import matplotlib as mpl\n",
    "from mpl_toolkits.mplot3d import Axes3D\n",
    "import numpy as np\n",
    "import matplotlib.pyplot as plt"
   ]
  },
  {
   "cell_type": "code",
   "execution_count": 2,
   "metadata": {},
   "outputs": [],
   "source": [
    "#getWords() takes a string as input and outputs the list of words (delimited by non-characters) in lowercase.\n",
    "import re\n",
    "def getWords(text):\n",
    "    return re.compile('\\w+').findall(text.lower())"
   ]
  },
  {
   "cell_type": "code",
   "execution_count": 3,
   "metadata": {},
   "outputs": [],
   "source": [
    "#getInVec() takes a list of test words and an n-length wordlist as input.\n",
    "#it outputs an n-length feature vector that is 1 if the word in wordlist appears in the list of test words.\n",
    "def getInVec(message, wordlist):\n",
    "    x=np.array( [1 if word in message else 0 for word in wordlist] )\n",
    "    return x"
   ]
  },
  {
   "cell_type": "code",
   "execution_count": 4,
   "metadata": {},
   "outputs": [
    {
     "name": "stdout",
     "output_type": "stream",
     "text": [
      "The length of the wordlist is 78761\n",
      "The length of the set of the wordlist is 8117\n"
     ]
    }
   ],
   "source": [
    "#load the trainingset\n",
    "trainingset=np.genfromtxt(\"data/SMSs.dat\", delimiter=\"\\t\", dtype=None)\n",
    "trainingset=trainingset[0:5000,:]\n",
    "m=len(trainingset)\n",
    "\n",
    "#generate the wordlist\n",
    "wordlist = []\n",
    "for i in range(0,m):\n",
    "    for word in getWords( trainingset[i,1] ):\n",
    "        wordlist.append( word )\n",
    "print \"The length of the wordlist is \" + str(len(wordlist))\n",
    "wordlist= np.array( list( set(wordlist) ) )\n",
    "n=len(wordlist)\n",
    "print \"The length of the set of the wordlist is \" + str(n)"
   ]
  },
  {
   "cell_type": "code",
   "execution_count": 5,
   "metadata": {},
   "outputs": [],
   "source": [
    "#generate the target matrix\n",
    "Y=np.array( [1 if i==\"spam\" else 0 for i in trainingset[:,0]] ) #Y m*1 target matrix \n",
    "Y_not=np.logical_not(Y)\n",
    "sum_spam=sum(Y) #total number of spam messages\n",
    "sum_notspam=sum(Y_not)"
   ]
  },
  {
   "cell_type": "code",
   "execution_count": 6,
   "metadata": {},
   "outputs": [],
   "source": [
    "#generate the feature matrix (Sorry this takes a while because of the loop)\n",
    "X=np.zeros((m,n)) #m*n feature matrix\n",
    "for i in range(0,m):\n",
    "    SMS=getWords(trainingset[i,1])\n",
    "    X[i]=getInVec(SMS, wordlist)\n",
    "sum_x=np.sum(X, axis=0) #n*1 vector: number of j'th feature\n",
    "\n",
    "#calculate the parameter F_xj_given_spam \n",
    "sum_x_and_spam=np.zeros(n)\n",
    "for j in range(0,n):\n",
    "    sum_x_and_spam[i] = sum( np.logical_and(X[:,j],Y) ) #m*1 vector: number of {j'th feature AND spam}\n",
    "F_xj_given_spam = (sum_x_and_spam+1)/(sum_spam+2) #\n",
    "\n",
    "#calculate the parameter F_xj_given_notspam \n",
    "sum_x_and_notspam=np.zeros(n)\n",
    "for j in range(0,n):\n",
    "    sum_x_and_notspam[i] = sum( np.logical_and(X[:,j],Y_not) ) #m*1 vector: number of {j'th feature AND notspam}\n",
    "F_xj_given_notspam = (sum_x_and_notspam+1)/(sum_notspam+2)\n",
    "\n",
    "P_spam=float(sum_spam)/m\n",
    "\n",
    "F_xj=sum_x/m"
   ]
  },
  {
   "cell_type": "code",
   "execution_count": 11,
   "metadata": {
    "scrolled": false
   },
   "outputs": [
    {
     "name": "stdout",
     "output_type": "stream",
     "text": [
      "Hmph. Go head, big baller.\n",
      "The probability that this message is spam is 0.00159288026456\n",
      "I will categorize this message as NOTSPAM.\n",
      "This message is indeed NOTSPAM.\n",
      "\n",
      "\n",
      "Well its not like you actually called someone a punto. That woulda been worse.\n",
      "The probability that this message is spam is 0.99999474166\n",
      "I will categorize this message as NOTSPAM.\n",
      "This message is indeed NOTSPAM.\n",
      "\n",
      "\n",
      "Nope. Since ayo travelled, he has forgotten his guy\n",
      "The probability that this message is spam is 0.730646590324\n",
      "I will categorize this message as NOTSPAM.\n",
      "This message is indeed NOTSPAM.\n",
      "\n",
      "\n",
      "You still around? Looking to pick up later\n",
      "The probability that this message is spam is 0.945706938036\n",
      "I will categorize this message as NOTSPAM.\n",
      "This message is indeed NOTSPAM.\n",
      "\n",
      "\n",
      "CDs 4u: Congratulations ur awarded £500 of CD gift vouchers or £125 gift guaranteed & Freeentry 2 £100 wkly draw xt MUSIC to 87066 TnCs www.ldew.com1win150ppmx3age16\n",
      "The probability that this message is spam is 1.0\n",
      "I will categorize this message as SPAM.\n",
      "This message is indeed SPAM.\n",
      "\n",
      "\n",
      "There's someone here that has a year  &lt;\n",
      "The probability that this message is spam is 0.991138752609\n",
      "I will categorize this message as NOTSPAM.\n",
      "This message is indeed NOTSPAM.\n",
      "\n",
      "\n",
      "Guess which pub im in? Im as happy as a pig in clover or whatever the saying is!\n",
      "The probability that this message is spam is 0.999999181114\n",
      "I will categorize this message as NOTSPAM.\n",
      "This message is indeed NOTSPAM.\n",
      "\n",
      "\n",
      "ILL B DOWN SOON\n",
      "The probability that this message is spam is 0.0101408930098\n",
      "I will categorize this message as NOTSPAM.\n",
      "This message is indeed NOTSPAM.\n",
      "\n",
      "\n",
      "Oh k. . I will come tomorrow\n",
      "The probability that this message is spam is 0.296979041513\n",
      "I will categorize this message as NOTSPAM.\n",
      "This message is indeed NOTSPAM.\n",
      "\n",
      "\n",
      "Go fool dont cheat others ok\n",
      "The probability that this message is spam is 0.296979041511\n",
      "I will categorize this message as NOTSPAM.\n",
      "This message is indeed NOTSPAM.\n",
      "\n",
      "\n"
     ]
    }
   ],
   "source": [
    "#load the validationset\n",
    "validationset=np.genfromtxt(\"data/SMSs.dat\", delimiter=\"\\t\", dtype=None)\n",
    "validationset=validationset[5000:-1,:]\n",
    "\n",
    "for entry in validationset[0:10,:]:\n",
    "    trial=getWords(entry[1])\n",
    "    x_trial=getInVec(trial,wordlist) #feature vector of the trial\n",
    "    print entry[1]\n",
    "\n",
    "    log_P_x_given_spam=0\n",
    "    log_P_x_given_notspam=0\n",
    "\n",
    "    for j in range (0,n):\n",
    "        if (x_trial[j]==1):\n",
    "            log_P_x_given_spam = log_P_x_given_spam + np.log(F_xj_given_spam[j])\n",
    "            log_P_x_given_notspam = log_P_x_given_notspam + np.log(F_xj_given_notspam[j])\n",
    "        if (x_trial[j]==0):\n",
    "            log_P_x_given_spam = log_P_x_given_spam + np.log(1-F_xj_given_spam[j])\n",
    "            log_P_x_given_notspam = log_P_x_given_notspam + np.log(1-F_xj_given_notspam[j])\n",
    "\n",
    "    P_x_given_spam = np.exp(log_P_x_given_spam)\n",
    "    P_x_given_notspam = np.exp(log_P_x_given_notspam)\n",
    "    P_spam_given_x = P_spam* P_x_given_spam/ (P_x_given_spam*(P_spam) + P_x_given_notspam*(1-P_spam))\n",
    "    \n",
    "    print \"The probability that this message is spam is \" + str(P_spam_given_x)\n",
    "    \n",
    "    if(str(P_spam_given_x)==str(1.0)):\n",
    "        print \"I will categorize this message as SPAM.\"\n",
    "        if (entry[0]==\"spam\"):\n",
    "            print \"This message is indeed SPAM.\"\n",
    "        else:\n",
    "            print \"I was wrong; this message is NOTSPAM.\"\n",
    "                \n",
    "    if(str(P_spam_given_x)!=str(1.0)):\n",
    "        print \"I will categorize this message as NOTSPAM.\"\n",
    "        if (entry[0]==\"ham\"):\n",
    "            print \"This message is indeed NOTSPAM.\"\n",
    "        else:\n",
    "            print \"I was wrong; this message is SPAM.\"\n",
    "                \n",
    "    print \"\\n\""
   ]
  }
 ],
 "metadata": {
  "kernelspec": {
   "display_name": "Python 2",
   "language": "python",
   "name": "python2"
  },
  "language_info": {
   "codemirror_mode": {
    "name": "ipython",
    "version": 2
   },
   "file_extension": ".py",
   "mimetype": "text/x-python",
   "name": "python",
   "nbconvert_exporter": "python",
   "pygments_lexer": "ipython2",
   "version": "2.7.12"
  }
 },
 "nbformat": 4,
 "nbformat_minor": 2
}
