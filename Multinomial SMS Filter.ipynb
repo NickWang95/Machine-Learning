{
 "cells": [
  {
   "cell_type": "markdown",
   "metadata": {},
   "source": [
    "# Spam SMS Filter\n",
    "## Naive Bayes, Multinomial Event Model, Laplace Smoothing\n",
    "\n",
    "We implement a multinomial event model to filter out spam SMS. This hopefully performs better than the Bernoulli.\n",
    "\n",
    "The dataset was obtained from https://archive.ics.uci.edu/ml/datasets/sms+spam+collection. It contains:\n",
    "\n",
    "-> 425 spam SMS messages, manually extracted from the Grumbletext Web site which is a UK forum in which cell phone users make public claims about SMS spam messages\n",
    "\n",
    "-> 3,375 non-spam SMS messages largely originated from Singaporeans and mostly from students attending the National University of Singapore.\n",
    "\n",
    "-> 450 non-spam SMS messages from Caroline Tag's PhD Thesis.\n",
    "\n",
    "-> 1,002 non-spam SMS messages and spam 322 SMS messages from the SMS Spam Corpus v.0.1 Big.\n",
    "\n",
    "^Description paraphrased from the link above."
   ]
  },
  {
   "cell_type": "code",
   "execution_count": 1,
   "metadata": {},
   "outputs": [],
   "source": [
    "%matplotlib inline\n",
    "import matplotlib as mpl\n",
    "from mpl_toolkits.mplot3d import Axes3D\n",
    "import numpy as np\n",
    "import matplotlib.pyplot as plt"
   ]
  },
  {
   "cell_type": "code",
   "execution_count": 2,
   "metadata": {},
   "outputs": [],
   "source": [
    "#getWords() takes a string as input and outputs the list of words (delimited by non-characters) in lowercase.\n",
    "import re\n",
    "def getWords(text):\n",
    "    return re.compile('\\w+').findall(text.lower())"
   ]
  },
  {
   "cell_type": "code",
   "execution_count": 3,
   "metadata": {},
   "outputs": [],
   "source": [
    "#getInVec() takes a list of test words and a V-length wordlist as input.\n",
    "#it outputs an n_i*1 feature vector, n_i is the number of test words\n",
    "#x_j=k, k is the index of the j'th word in the wordlist\n",
    "def getInVec(message, wordlist):\n",
    "    x=np.array( [np.where(word==wordlist)[0] for word in message] )\n",
    "    return np.array(filter(None,x)) #If the word does not appear in the wordlist, it does not affect the input vector!"
   ]
  },
  {
   "cell_type": "code",
   "execution_count": 4,
   "metadata": {},
   "outputs": [
    {
     "name": "stdout",
     "output_type": "stream",
     "text": [
      "The length of the training set is m=5000\n",
      "The length of the wordlist is 78761\n",
      "The length of the set of the wordlist is V=8117\n"
     ]
    }
   ],
   "source": [
    "#load the trainingset\n",
    "trainingset=np.genfromtxt(\"data/SMSs.dat\", delimiter=\"\\t\", dtype=None)\n",
    "trainingset=trainingset[0:5000,:]\n",
    "m=len(trainingset)\n",
    "print \"The length of the training set is m=\" + str(m)\n",
    "\n",
    "#generate the wordlist\n",
    "wordlist = []\n",
    "for i in range(0,m):\n",
    "    for word in getWords( trainingset[i,1] ):\n",
    "        wordlist.append( word )\n",
    "print \"The length of the wordlist is \" + str(len(wordlist))\n",
    "wordlist= np.array( list( set(wordlist) ) )\n",
    "V=len(wordlist)\n",
    "print \"The length of the set of the wordlist is V=\" + str(V)"
   ]
  },
  {
   "cell_type": "code",
   "execution_count": 5,
   "metadata": {},
   "outputs": [],
   "source": [
    "#generate the target matrix\n",
    "Y=np.array( [1 if i==\"spam\" else 0 for i in trainingset[:,0]] ) #Y m*1 target matrix \n",
    "Y_not=np.logical_not(Y)\n",
    "sum_spam=sum(Y) #total number of spam messages\n",
    "P_spam=float(sum_spam)/m"
   ]
  },
  {
   "cell_type": "code",
   "execution_count": 6,
   "metadata": {},
   "outputs": [],
   "source": [
    "#F reads as lowercase PHI.\n",
    "#generate the feature matrix\n",
    "X=[None]*m #m*n_i, n_i is the number of words in the m'th example.\n",
    "for i in range(0,m):\n",
    "    SMS=getWords(trainingset[i,1])\n",
    "    X[i]=getInVec(SMS, wordlist)"
   ]
  },
  {
   "cell_type": "code",
   "execution_count": 7,
   "metadata": {},
   "outputs": [],
   "source": [
    "n_i=np.zeros(m) #m*1 vector representing number of words of training example\n",
    "for i in range(0,m):\n",
    "    n_i[i] = len(X[i])"
   ]
  },
  {
   "cell_type": "markdown",
   "metadata": {},
   "source": [
    "#calculate the parameter F_k_given_spam\n",
    "F_k_given_spam=np.zeros(V) #V*1 vector\n",
    "F_k_given_notspam=np.zeros(V)\n",
    "for k in range(0,V):\n",
    "    count0=1.0 #starts at 1 for Laplace Smoothing\n",
    "    count1=1.0\n",
    "    denom0=V #starts at V for Laplace Smoothing\n",
    "    denom1=V\n",
    "    for i in range(0,m):\n",
    "        if (Y[i]==1):\n",
    "            count1+=sum(X[i]==k)\n",
    "            denom1+=n_i[i]\n",
    "        elif (Y[i]==0):\n",
    "            count0+=sum (X[i]==k)\n",
    "            denom0+=n_i[i]\n",
    "            \n",
    "    F_k_given_spam[k] = count1/denom1\n",
    "    F_k_given_notspam[k] = count0/denom0\n",
    "\n",
    "np.savetxt('F_k_given_spam-SMSFilter.txt', F_k_given_spam)\n",
    "np.savetxt('F_k_given_notspam-SMSFilter.txt', F_k_given_notspam)"
   ]
  },
  {
   "cell_type": "code",
   "execution_count": 8,
   "metadata": {},
   "outputs": [],
   "source": [
    "#Do not run the previous cell! It takes 10 minutes.\n",
    "#The parameters were calculated and saved using the previous cell.\n",
    "#Just load them.\n",
    "F_k_given_spam = np.loadtxt('F_k_given_spam-SMSFilter.txt')\n",
    "F_k_given_notspam = np.loadtxt('F_k_given_notspam-SMSFilter.txt')"
   ]
  },
  {
   "cell_type": "code",
   "execution_count": 9,
   "metadata": {},
   "outputs": [
    {
     "name": "stdout",
     "output_type": "stream",
     "text": [
      "MESSAGE: 'Hmph. Go head, big baller.'\n",
      "The probability that this message is spam is [ 0.00230747]\n",
      "Truely nonspam.\n",
      "\n",
      "\n",
      "MESSAGE: 'Well its not like you actually called someone a punto. That woulda been worse.'\n",
      "The probability that this message is spam is [  8.34550573e-08]\n",
      "Truely nonspam.\n",
      "\n",
      "\n",
      "MESSAGE: 'Nope. Since ayo travelled, he has forgotten his guy'\n",
      "The probability that this message is spam is [  4.09648660e-06]\n",
      "Truely nonspam.\n",
      "\n",
      "\n",
      "MESSAGE: 'You still around? Looking to pick up later'\n",
      "The probability that this message is spam is [  2.11069439e-06]\n",
      "Truely nonspam.\n",
      "\n",
      "\n",
      "MESSAGE: 'CDs 4u: Congratulations ur awarded £500 of CD gift vouchers or £125 gift guaranteed & Freeentry 2 £100 wkly draw xt MUSIC to 87066 TnCs www.ldew.com1win150ppmx3age16'\n",
      "The probability that this message is spam is [ 1.]\n",
      "Truely spam.\n",
      "\n",
      "\n",
      "MESSAGE: 'There's someone here that has a year  &lt;'\n",
      "The probability that this message is spam is [  4.39063757e-06]\n",
      "Truely nonspam.\n",
      "\n",
      "\n",
      "MESSAGE: 'Guess which pub im in? Im as happy as a pig in clover or whatever the saying is!'\n",
      "The probability that this message is spam is [  1.19167325e-07]\n",
      "Truely nonspam.\n",
      "\n",
      "\n",
      "MESSAGE: 'ILL B DOWN SOON'\n",
      "The probability that this message is spam is [ 0.00038696]\n",
      "Truely nonspam.\n",
      "\n",
      "\n",
      "MESSAGE: 'Oh k. . I will come tomorrow'\n",
      "The probability that this message is spam is [  1.70407956e-07]\n",
      "Truely nonspam.\n",
      "\n",
      "\n",
      "MESSAGE: 'Go fool dont cheat others ok'\n",
      "The probability that this message is spam is [ 0.0003695]\n",
      "Truely nonspam.\n",
      "\n",
      "\n",
      "MESSAGE: 'My mobile number.pls sms ur mail id.convey regards to achan,amma.Rakhesh.Qatar'\n",
      "The probability that this message is spam is [ 0.000958]\n",
      "Truely nonspam.\n",
      "\n",
      "\n",
      "MESSAGE: 'By the way, 'rencontre' is to meet again. Mountains dont....'\n",
      "The probability that this message is spam is [  6.24293955e-05]\n",
      "Truely nonspam.\n",
      "\n",
      "\n",
      "MESSAGE: 'You have WON a guaranteed £1000 cash or a £2000 prize. To claim yr prize call our customer service representative on 08714712412 between 10am-7pm Cost 10p'\n",
      "The probability that this message is spam is [ 1.]\n",
      "Truely spam.\n",
      "\n",
      "\n",
      "MESSAGE: 'We have sent JD for Customer Service cum Accounts Executive to ur mail id, For details contact us'\n",
      "The probability that this message is spam is [ 0.99593854]\n",
      "Falsely labelled spam.\n",
      "\n",
      "\n",
      "P_x is zero for message:\n",
      "A Boy loved a gal. He propsd bt she didnt mind. He gv lv lttrs, Bt her frnds threw thm. Again d boy decided 2 aproach d gal , dt time a truck was speeding towards d gal. Wn it was about 2 hit d girl,d boy ran like hell n saved her. She asked 'hw cn u run so fast?' D boy replied \"Boost is d secret of my energy\" n instantly d girl shouted \"our energy\" n Thy lived happily 2gthr drinking boost evrydy Moral of d story:- I hv free msgs:D;): gud ni8\n",
      "\n",
      "MESSAGE: 'dating:i have had two of these. Only started after i sent a text to talk sport radio last week. Any connection do you think or coincidence?'\n",
      "The probability that this message is spam is [  1.09080972e-06]\n",
      "Falsely labelled nonspam.\n",
      "\n",
      "\n",
      "MESSAGE: 'Dhoni have luck to win some big title.so we will win:)'\n",
      "The probability that this message is spam is [ 0.8022141]\n",
      "Falsely labelled spam.\n",
      "\n",
      "\n"
     ]
    }
   ],
   "source": [
    "#load the validationset\n",
    "validationset=np.genfromtxt(\"data/SMSs.dat\", delimiter=\"\\t\", dtype=None)\n",
    "validationset=validationset[5000:,:]\n",
    "P_thres=0.5\n",
    "false_pos=0\n",
    "true_pos=0\n",
    "false_neg=0\n",
    "true_neg=0\n",
    "\n",
    "for entry in validationset:\n",
    "    trial=getWords(entry[1])\n",
    "    x_trial=getInVec(trial,wordlist) #feature vector of the trial\n",
    "    n=len(x_trial)\n",
    "    \n",
    "    log_P_x_given_spam=0\n",
    "    log_P_x_given_notspam=0\n",
    "    for j in range(0,n):\n",
    "        log_P_x_given_spam = log_P_x_given_spam + np.log(F_k_given_spam[x_trial[j]])\n",
    "        log_P_x_given_notspam = log_P_x_given_notspam + np.log(F_k_given_notspam[x_trial[j]])\n",
    "\n",
    "    P_x_given_spam = np.exp(log_P_x_given_spam)\n",
    "    P_x_given_notspam = np.exp(log_P_x_given_notspam)\n",
    "    \n",
    "    if ((P_x_given_spam*(P_spam) + P_x_given_notspam*(1-P_spam))==0):\n",
    "        print \"P_x is zero for message:\\n\" + entry[1] + \"\\n\"\n",
    "        continue\n",
    "        \n",
    "    P_spam_given_x = P_spam* P_x_given_spam/ (P_x_given_spam*(P_spam) + P_x_given_notspam*(1-P_spam))\n",
    "#############################################################\n",
    "#print a couple of messages and the false pos/negs.\n",
    "    if (true_pos<2 or (P_spam_given_x>P_thres and entry[0]==\"ham\") or (P_spam_given_x<=P_thres and entry[0]==\"spam\")):\n",
    "        print \"MESSAGE: '\" + entry[1] + \"'\"\n",
    "        print \"The probability that this message is spam is \" + str(P_spam_given_x)\n",
    "        \n",
    "        if (P_spam_given_x>P_thres):            \n",
    "            if (entry[0]==\"spam\"):\n",
    "                true_pos+=1\n",
    "                print \"Truely spam.\"\n",
    "            else:\n",
    "                false_pos+=1\n",
    "                print \"Falsely labelled spam.\"\n",
    "\n",
    "        if (P_spam_given_x<=P_thres): \n",
    "            if (entry[0]==\"spam\"):\n",
    "                false_neg+=1\n",
    "                print \"Falsely labelled nonspam.\"\n",
    "            else:\n",
    "                true_neg+=1\n",
    "                print \"Truely nonspam.\"\n",
    "        print\"\\n\"\n",
    "#############################################################\n",
    "    else:\n",
    "        if (P_spam_given_x>P_thres):            \n",
    "            if (entry[0]==\"spam\"):\n",
    "                true_pos+=1\n",
    "            else:\n",
    "                false_pos+=1\n",
    "\n",
    "        if (P_spam_given_x<=P_thres): \n",
    "            if (entry[0]==\"spam\"):\n",
    "                false_neg+=1\n",
    "            else:\n",
    "                true_neg+=1"
   ]
  },
  {
   "cell_type": "code",
   "execution_count": 10,
   "metadata": {},
   "outputs": [
    {
     "name": "stdout",
     "output_type": "stream",
     "text": [
      "True spams: 73\n",
      "False spams: 2\n",
      "False nonspams: 1\n",
      "True nonspams: 497\n"
     ]
    }
   ],
   "source": [
    "print \"True spams: \" + str(true_pos)\n",
    "print \"False spams: \" + str(false_pos)\n",
    "print \"False nonspams: \" + str(false_neg)\n",
    "print \"True nonspams: \" + str(true_neg)"
   ]
  },
  {
   "cell_type": "markdown",
   "metadata": {},
   "source": [
    "This is so much better than the multi-variate Bernoulli event model.\n",
    "\n",
    "It would be good to remove stop words like \"the\" or \"i\". \n",
    "\n",
    "It also does not consider capital vs lower-case. \n",
    "\n",
    "Also important, the training set is m=5000, while the feature length is n=8117."
   ]
  }
 ],
 "metadata": {
  "kernelspec": {
   "display_name": "Python 2",
   "language": "python",
   "name": "python2"
  },
  "language_info": {
   "codemirror_mode": {
    "name": "ipython",
    "version": 2
   },
   "file_extension": ".py",
   "mimetype": "text/x-python",
   "name": "python",
   "nbconvert_exporter": "python",
   "pygments_lexer": "ipython2",
   "version": "2.7.12"
  }
 },
 "nbformat": 4,
 "nbformat_minor": 2
}
